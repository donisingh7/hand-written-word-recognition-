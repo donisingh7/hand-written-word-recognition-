{
 "cells": [
  {
   "cell_type": "code",
   "execution_count": 1,
   "id": "7f2f5a96",
   "metadata": {},
   "outputs": [],
   "source": [
    "import tensorflow as tf\n",
    "from keras.preprocessing.image import ImageDataGenerator"
   ]
  },
  {
   "cell_type": "code",
   "execution_count": 2,
   "id": "61706c4d",
   "metadata": {},
   "outputs": [],
   "source": [
    "import matplotlib\n",
    "import matplotlib.pyplot as plt\n",
    "import numpy as np\n",
    "import pandas as pd\n",
    "import tensorflow.keras.utils as tku"
   ]
  },
  {
   "cell_type": "code",
   "execution_count": 3,
   "id": "08dece0d",
   "metadata": {},
   "outputs": [
    {
     "data": {
      "text/plain": [
       "'2.12.0'"
      ]
     },
     "execution_count": 3,
     "metadata": {},
     "output_type": "execute_result"
    }
   ],
   "source": [
    "tf.__version__"
   ]
  },
  {
   "cell_type": "code",
   "execution_count": 6,
   "id": "e46f155d",
   "metadata": {},
   "outputs": [
    {
     "name": "stdout",
     "output_type": "stream",
     "text": [
      "Found 37340 images belonging to 10 classes.\n"
     ]
    }
   ],
   "source": [
    "train_datagen = ImageDataGenerator(rescale = 1./255,\n",
    "                                   shear_range = 0.2,\n",
    "                                   zoom_range = 0.2,\n",
    "                                   horizontal_flip = True)\n",
    "training_set = train_datagen.flow_from_directory('C:/Users/DELL/Desktop/projects/dogs and cat/datasets/MNIST/training_set',\n",
    "                                                 target_size = (28, 28),\n",
    "                                                 batch_size = 32,\n",
    "                                                 class_mode = 'categorical')"
   ]
  },
  {
   "cell_type": "code",
   "execution_count": 8,
   "id": "1d67f2e8",
   "metadata": {},
   "outputs": [
    {
     "name": "stdout",
     "output_type": "stream",
     "text": [
      "Found 4660 images belonging to 10 classes.\n"
     ]
    }
   ],
   "source": [
    "train_datagen = ImageDataGenerator(rescale = 1./255,\n",
    "                                   shear_range = 0.2,\n",
    "                                   zoom_range = 0.2,\n",
    "                                   horizontal_flip = True)\n",
    "test_set = train_datagen.flow_from_directory('C:/Users/DELL/Desktop/projects/dogs and cat/datasets/MNIST/test_set',\n",
    "                                                 target_size = (28, 28),\n",
    "                                                 batch_size = 32,\n",
    "                                                 class_mode = 'categorical')"
   ]
  },
  {
   "cell_type": "code",
   "execution_count": 9,
   "id": "4c9f8764",
   "metadata": {},
   "outputs": [],
   "source": [
    "cnn = tf.keras.models.Sequential()"
   ]
  },
  {
   "cell_type": "code",
   "execution_count": 10,
   "id": "88c7ad33",
   "metadata": {},
   "outputs": [],
   "source": [
    "cnn.add(tf.keras.layers.Conv2D(filters=32, kernel_size=3, activation='relu', input_shape=[28, 28, 3]))"
   ]
  },
  {
   "cell_type": "code",
   "execution_count": 11,
   "id": "28b6025c",
   "metadata": {},
   "outputs": [],
   "source": [
    "cnn.add(tf.keras.layers.MaxPool2D(pool_size=2, strides=2))"
   ]
  },
  {
   "cell_type": "code",
   "execution_count": 12,
   "id": "a9df8817",
   "metadata": {},
   "outputs": [],
   "source": [
    "cnn.add(tf.keras.layers.Conv2D(filters=32, kernel_size=3, activation='relu'))\n",
    "cnn.add(tf.keras.layers.MaxPool2D(pool_size=2, strides=2))"
   ]
  },
  {
   "cell_type": "code",
   "execution_count": 13,
   "id": "fa31dc36",
   "metadata": {},
   "outputs": [],
   "source": [
    "cnn.add(tf.keras.layers.Flatten())"
   ]
  },
  {
   "cell_type": "code",
   "execution_count": 14,
   "id": "6527cf59",
   "metadata": {},
   "outputs": [],
   "source": [
    "cnn.add(tf.keras.layers.Dense(units=64, activation='relu'))"
   ]
  },
  {
   "cell_type": "code",
   "execution_count": 15,
   "id": "446f2d43",
   "metadata": {},
   "outputs": [],
   "source": [
    "cnn.add(tf.keras.layers.Dense(units=10, activation='softmax'))"
   ]
  },
  {
   "cell_type": "code",
   "execution_count": 16,
   "id": "2e39f165",
   "metadata": {},
   "outputs": [],
   "source": [
    "cnn.compile(optimizer = 'adam', loss = 'categorical_crossentropy', metrics = ['accuracy'])"
   ]
  },
  {
   "cell_type": "code",
   "execution_count": 18,
   "id": "55c51d86",
   "metadata": {},
   "outputs": [
    {
     "name": "stdout",
     "output_type": "stream",
     "text": [
      "Epoch 1/20\n",
      "1167/1167 [==============================] - 95s 81ms/step - loss: 0.0269 - accuracy: 0.9908 - val_loss: 0.0521 - val_accuracy: 0.9854\n",
      "Epoch 2/20\n",
      "1167/1167 [==============================] - 69s 59ms/step - loss: 0.0281 - accuracy: 0.9909 - val_loss: 0.0498 - val_accuracy: 0.9848\n",
      "Epoch 3/20\n",
      "1167/1167 [==============================] - 80s 69ms/step - loss: 0.0255 - accuracy: 0.9919 - val_loss: 0.0576 - val_accuracy: 0.9856\n",
      "Epoch 4/20\n",
      "1167/1167 [==============================] - 85s 73ms/step - loss: 0.0254 - accuracy: 0.9920 - val_loss: 0.0572 - val_accuracy: 0.9830\n",
      "Epoch 5/20\n",
      "1167/1167 [==============================] - 84s 72ms/step - loss: 0.0244 - accuracy: 0.9919 - val_loss: 0.0498 - val_accuracy: 0.9852\n",
      "Epoch 6/20\n",
      "1167/1167 [==============================] - 92s 79ms/step - loss: 0.0247 - accuracy: 0.9918 - val_loss: 0.0528 - val_accuracy: 0.9854\n",
      "Epoch 7/20\n",
      "1167/1167 [==============================] - 138s 118ms/step - loss: 0.0243 - accuracy: 0.9923 - val_loss: 0.0424 - val_accuracy: 0.9871\n",
      "Epoch 8/20\n",
      "1167/1167 [==============================] - 127s 109ms/step - loss: 0.0222 - accuracy: 0.9921 - val_loss: 0.0615 - val_accuracy: 0.9843\n",
      "Epoch 9/20\n",
      "1167/1167 [==============================] - 143s 122ms/step - loss: 0.0213 - accuracy: 0.9925 - val_loss: 0.0501 - val_accuracy: 0.9869\n",
      "Epoch 10/20\n",
      "1167/1167 [==============================] - 175s 150ms/step - loss: 0.0217 - accuracy: 0.9928 - val_loss: 0.0498 - val_accuracy: 0.9865\n",
      "Epoch 11/20\n",
      "1167/1167 [==============================] - 170s 145ms/step - loss: 0.0217 - accuracy: 0.9928 - val_loss: 0.0557 - val_accuracy: 0.9867\n",
      "Epoch 12/20\n",
      "1167/1167 [==============================] - 160s 137ms/step - loss: 0.0198 - accuracy: 0.9935 - val_loss: 0.0443 - val_accuracy: 0.9886\n",
      "Epoch 13/20\n",
      "1167/1167 [==============================] - 143s 123ms/step - loss: 0.0191 - accuracy: 0.9937 - val_loss: 0.0480 - val_accuracy: 0.9854\n",
      "Epoch 14/20\n",
      "1167/1167 [==============================] - 143s 122ms/step - loss: 0.0201 - accuracy: 0.9939 - val_loss: 0.0466 - val_accuracy: 0.9858\n",
      "Epoch 15/20\n",
      "1167/1167 [==============================] - 150s 129ms/step - loss: 0.0210 - accuracy: 0.9932 - val_loss: 0.0526 - val_accuracy: 0.9871\n",
      "Epoch 16/20\n",
      "1167/1167 [==============================] - 144s 123ms/step - loss: 0.0190 - accuracy: 0.9937 - val_loss: 0.0498 - val_accuracy: 0.9873\n",
      "Epoch 17/20\n",
      "1167/1167 [==============================] - 127s 109ms/step - loss: 0.0191 - accuracy: 0.9934 - val_loss: 0.0483 - val_accuracy: 0.9848\n",
      "Epoch 18/20\n",
      "1167/1167 [==============================] - 159s 136ms/step - loss: 0.0191 - accuracy: 0.9935 - val_loss: 0.0555 - val_accuracy: 0.9863\n",
      "Epoch 19/20\n",
      "1167/1167 [==============================] - 123s 105ms/step - loss: 0.0193 - accuracy: 0.9934 - val_loss: 0.0489 - val_accuracy: 0.9837\n",
      "Epoch 20/20\n",
      "1167/1167 [==============================] - 124s 107ms/step - loss: 0.0187 - accuracy: 0.9941 - val_loss: 0.0558 - val_accuracy: 0.9861\n"
     ]
    }
   ],
   "source": [
    "trained_model = cnn.fit(x = training_set, validation_data = test_set, epochs = 20)"
   ]
  },
  {
   "cell_type": "code",
   "execution_count": 23,
   "id": "456d3e66",
   "metadata": {},
   "outputs": [
    {
     "name": "stdout",
     "output_type": "stream",
     "text": [
      "1/1 [==============================] - 0s 37ms/step\n"
     ]
    }
   ],
   "source": [
    "import numpy as np\n",
    "from tensorflow.keras.preprocessing import image\n",
    "test_image = image.load_img('C:/Users/DELL/Desktop/projects/dogs and cat/datasets/MNIST/single_prediction/img_59.jpg', target_size = (28, 28))\n",
    "test_image = image.img_to_array(test_image)\n",
    "test_image = np.expand_dims(test_image, axis = 0)\n",
    "results = (cnn.predict(test_image))\n",
    "training_set.class_indices\n",
    "if results[0][0] == 1:\n",
    "  prediction = 'Zero'\n",
    "elif results[0][1] == 1:\n",
    "  prediction = 'One'\n",
    "elif results[0][2] == 1:\n",
    "  prediction = 'Two'\n",
    "elif results[0][3] == 1:\n",
    "  prediction = 'Three'\n",
    "elif results[0][4] == 1:\n",
    "  prediction = 'Four'\n",
    "elif results[0][5] == 1:\n",
    "  prediction = 'Five'\n",
    "elif results[0][6] == 1:\n",
    "  prediction = 'Six'\n",
    "elif results[0][7] == 1:\n",
    "  prediction = 'Seven'\n",
    "elif results[0][8] == 1:\n",
    "  prediction = 'Eight'\n",
    "else:\n",
    "  prediction = 'Nine'"
   ]
  },
  {
   "cell_type": "code",
   "execution_count": 24,
   "id": "28c105e4",
   "metadata": {},
   "outputs": [
    {
     "name": "stdout",
     "output_type": "stream",
     "text": [
      "[[0. 0. 1. 0. 0. 0. 0. 0. 0. 0.]]\n"
     ]
    }
   ],
   "source": [
    "print(results)"
   ]
  },
  {
   "cell_type": "code",
   "execution_count": 25,
   "id": "8873cf80",
   "metadata": {},
   "outputs": [
    {
     "name": "stdout",
     "output_type": "stream",
     "text": [
      "Two\n"
     ]
    }
   ],
   "source": [
    "print(prediction)\n"
   ]
  }
 ],
 "metadata": {
  "kernelspec": {
   "display_name": "Python 3 (ipykernel)",
   "language": "python",
   "name": "python3"
  },
  "language_info": {
   "codemirror_mode": {
    "name": "ipython",
    "version": 3
   },
   "file_extension": ".py",
   "mimetype": "text/x-python",
   "name": "python",
   "nbconvert_exporter": "python",
   "pygments_lexer": "ipython3",
   "version": "3.10.9"
  }
 },
 "nbformat": 4,
 "nbformat_minor": 5
}
